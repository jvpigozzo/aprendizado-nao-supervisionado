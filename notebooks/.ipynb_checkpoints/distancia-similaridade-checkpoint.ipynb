{
 "cells": [
  {
   "cell_type": "markdown",
   "id": "5ff14752",
   "metadata": {},
   "source": [
    "# Distância e similaridade"
   ]
  },
  {
   "cell_type": "markdown",
   "id": "22af462f",
   "metadata": {},
   "source": [
    "Autor: João Vitor Pigozzo Quintã (jvpigozzo@gmail.com)\n"
   ]
  },
  {
   "cell_type": "markdown",
   "id": "10d1bf17",
   "metadata": {},
   "source": [
    "Esse notebook tem como objetivo explicitar os principais os conhecimentos base das técnicas de aprendizado não supervisionado. O aprendizado não supervisionado é o ramo de machine learning no qual não existem resultados pré-definidos para o modelo utilizar como referência para aprender. Portanto, essa tarefa pode ser não bem definida, e o desempenho não pode ser medido com elevada clareza uma vez que os dados não são rotulados.\n",
    "\n",
    "Considerando uma tarefa de classificar emails do tipo spam com dados não rotulados. Em algoritmos de aprendizado não supervisionado tentaremos entender a estrutura dos emails, separando os dados em grupos diferentes. Portanto, a resolução do problema não supervisionado é mais obscura quando comparado a modelos de aprendizado supervisionado. Os algoritmos não suprvisionados não possuem uma função de custo e acurácia.\n",
    "\n",
    "Os principais algoritmos de aprendizado não supervisionado:\n",
    "\n",
    "<p>\n",
    "<dt>Redução de Dimensionalidade</dt>\n",
    "<dd> </dd>\n",
    "<dd>1.Análise de Componentes Principais (PCA)</dd>\n",
    "<dd>2.Singular value decomposition (SVD)</dd>\n",
    "<dd>3.t-distributed stochastic neighbor embedding (t-SNE)<p>\n",
    "\n",
    "<p>\n",
    "<dt>Clusterização</dt>\n",
    "<dd>1.K-means</dd>\n",
    "<dd>2.Clusterização Hierárquica<p>\n",
    "    \n",
    "<p>\n",
    "<dt>Feature Extraction</dt>\n",
    "<dd>1.Autoencoders</dd>\n",
    "<p>    "
   ]
  },
  {
   "cell_type": "markdown",
   "id": "7ed41f35",
   "metadata": {},
   "source": [
    "# Preparação do ambiente"
   ]
  },
  {
   "cell_type": "code",
   "execution_count": 1,
   "id": "df48a014",
   "metadata": {},
   "outputs": [],
   "source": [
    "# Importação de pacotes\n",
    "import numpy as np\n",
    "import pandas as pd\n",
    "from matplotlib import pyplot as plt\n",
    "import math as math"
   ]
  },
  {
   "cell_type": "markdown",
   "id": "91cf8043",
   "metadata": {},
   "source": [
    "# Modelo linear"
   ]
  },
  {
   "cell_type": "markdown",
   "id": "d2b6e934",
   "metadata": {},
   "source": [
    "Medidas de similaridade são componentes centrais usados por algoritmos de clusterização baseados em distância. Para iniciar o entendimento de similaridade o primeiro conceito utilizado será o modelo linear cujo objetivo é a avaliação de proximidade a partir de uma regra de três. Supondo a existência de filmes classificados (numa escala de 0 a 10) em comédia, drama e terror e usuários que classificam seus interesses por esses tópicos:"
   ]
  },
  {
   "cell_type": "markdown",
   "id": "c265fda3",
   "metadata": {},
   "source": [
    "$$F1 = \\begin{bmatrix} 10 \\\\ 7 \\end{bmatrix} \n",
    "  F2 = \\begin{bmatrix} 2 \\\\ 8 \\end{bmatrix} $$"
   ]
  },
  {
   "cell_type": "markdown",
   "id": "aa7ab0f6",
   "metadata": {},
   "source": [
    "$$U1 = \\begin{bmatrix} 10 \\\\ 0 \\end{bmatrix} \n",
    "  U2 = \\begin{bmatrix} 2 \\\\ 5 \\end{bmatrix}$$"
   ]
  },
  {
   "cell_type": "code",
   "execution_count": 2,
   "id": "2837fe28",
   "metadata": {},
   "outputs": [],
   "source": [
    "# Dicionários de filmes\n",
    "f1 = {'comedia': 10, 'drama': 7}\n",
    "f2 = {'comedia': 2,  'drama': 8}\n",
    "\n",
    "# Dicionários de usuários\n",
    "u1 = {'comedia': 10, 'drama': 0}\n",
    "u2 = {'comedia': 2,  'drama': 7}"
   ]
  },
  {
   "cell_type": "markdown",
   "id": "7368ad00",
   "metadata": {},
   "source": [
    "## Função de Similaridade\n",
    "\n",
    "A função de similaridade será dada pelo produto das matrizes"
   ]
  },
  {
   "cell_type": "markdown",
   "id": "129bd61a",
   "metadata": {},
   "source": [
    "$sim(A,B) = \\sum \\limits _{i=1} ^{n} a_{i}b_{i}$"
   ]
  },
  {
   "cell_type": "code",
   "execution_count": 3,
   "id": "c074efd2",
   "metadata": {},
   "outputs": [],
   "source": [
    "# Definir a função de similaridade\n",
    "def sim(f,u):\n",
    "    \n",
    "    #Produto\n",
    "    prod = np.array(list(f.values()))*np.array(list(u.values()))\n",
    "    \n",
    "    #Somatório\n",
    "    sim = sum(prod)\n",
    "    \n",
    "    return sim    "
   ]
  },
  {
   "cell_type": "code",
   "execution_count": 15,
   "id": "5fd7d3d1",
   "metadata": {},
   "outputs": [
    {
     "name": "stdout",
     "output_type": "stream",
     "text": [
      "A similaridade entre o Filme 1 e o usuário 1 é 100\n",
      "A similaridade entre o Filme 2 e o usuário 1 é 20\n",
      "A similaridade entre o Filme 1 e o usuário 2 é 69\n",
      "A similaridade entre o Filme 2 e o usuário 2 é 60\n"
     ]
    }
   ],
   "source": [
    "print(\"A similaridade entre o Filme 1 e o usuário 1 é\",sim(f1,u1))\n",
    "print(\"A similaridade entre o Filme 2 e o usuário 1 é\",sim(f2,u1))\n",
    "print(\"A similaridade entre o Filme 1 e o usuário 2 é\",sim(f1,u2))\n",
    "print(\"A similaridade entre o Filme 2 e o usuário 2 é\",sim(f2,u2))"
   ]
  },
  {
   "cell_type": "markdown",
   "id": "b34e66ff",
   "metadata": {},
   "source": [
    "Analisando as matrizes de percebe-se que o usuário 1 gosta bastante de comédia e não possui nenhum gosto por filmes do gênero de drama. Analogamente, o filme 1 é capaz de entregar muita comédia e nada de terror enquanto o filme 2 entrega pouca comédia, e bastante em drama. Dessa forma, espera-se que o usurário 1 tenha maior propensão a gostar do filme 1 em detrimento do filme 2. Nesse modelo linear, obtemos como resultado que o unsuário 1 é mais similar ao filme 1 quando comparado com o filme 2.\n"
   ]
  },
  {
   "cell_type": "markdown",
   "id": "4be2ff85",
   "metadata": {},
   "source": [
    "## Distância Euclidiana"
   ]
  },
  {
   "cell_type": "markdown",
   "id": "a008667c",
   "metadata": {},
   "source": [
    "distância euclidiana é a distância entre dois pontos, que pode ser provada pela aplicação repetida do teorema de Pitágoras. Aplicando essa fórmula como distância, o espaço euclidiano torna-se um espaço métrico. A distância euclidiana entre os pontos ${\\displaystyle A=(a_{1},a_{2},\\dots ,a_{n})}$ e ${\\displaystyle B=(b_{1},b_{2},\\dots ,b_{n}),}$ num espaço euclidiano n-dimensional, é definida como:\n",
    "\n",
    "$\\sqrt{(a_{1}-b_{1})^{2} + \\dots + (a_{n}-b_{n})^{2}} =  \\sqrt{\\sum \\limits _{i=1} ^{n} a_{i}-b_{i}}$\n",
    "\n",
    "Vale ressaltar que diferentemente da função de similaridade, a distância é inversamente proporcional, isto é, quanto menor a distância mais parecidas são as observações."
   ]
  },
  {
   "cell_type": "markdown",
   "id": "b671f86e",
   "metadata": {},
   "source": [
    "### Interpretação Gráfica\n",
    "\n",
    "Ainda no exemplo dos usuários e filmes, podemos calcular a distância euclidiana entre cada usuário e filme. A análise gráfica da distância euclidiana entre o usuário 1 e o filme 1 pode ser obtida por:"
   ]
  },
  {
   "cell_type": "code",
   "execution_count": 5,
   "id": "c87f6d8e",
   "metadata": {},
   "outputs": [
    {
     "data": {
      "image/png": "[encoded data removed]",
      "text/plain": [
       "<Figure size 576x360 with 1 Axes>"
      ]
     },
     "metadata": {
      "needs_background": "light"
     },
     "output_type": "display_data"
    }
   ],
   "source": [
    "#Tamanho da figura\n",
    "plt.rcParams['figure.figsize'] = (8, 5)\n",
    "\n",
    "#Plot dos vetores\n",
    "plt.quiver([0, 0], [0, 0], [u1['comedia'],f1['comedia']], [f1['drama'],u1['drama']], angles='xy', scale_units='xy', color=['black', 'blue'], scale=1)\n",
    "\n",
    "#Limites dos eixos\n",
    "plt.xlim(-1, 11)\n",
    "plt.ylim(-1, 11)\n",
    "\n",
    "#Titulos dos eixos\n",
    "plt.xlabel(\"Comédia\")\n",
    "plt.ylabel(\"Drama\")\n",
    "\n",
    "#Distancia\n",
    "plt.vlines(x=10, ymin=0, ymax=7, colors='red', ls='--', lw=2, label='Distância Euclidiana')\n",
    "\n",
    "# place the legend outside\n",
    "plt.legend(bbox_to_anchor=(1, 1), loc='upper left')\n",
    "\n",
    "#Titulo\n",
    "plt.title(\"Distância entre o usuário 1 e o filme 1\")\n",
    "\n",
    "#Display\n",
    "plt.show()"
   ]
  },
  {
   "cell_type": "markdown",
   "id": "a2518722",
   "metadata": {},
   "source": [
    "Graficamente, percebebemos que o usuário 1 (representado pelo vetor azul) não possui nenhuma preferência por drama enquanto sua preferência por comédia é alta. O vetor de cor preta representa o filme 1 que é capaz de entregar 7 de drama e 10 de comédia."
   ]
  },
  {
   "cell_type": "code",
   "execution_count": 6,
   "id": "b46f5ef6",
   "metadata": {},
   "outputs": [
    {
     "data": {
      "image/png": "[encoded data removed]",
      "text/plain": [
       "<Figure size 576x360 with 1 Axes>"
      ]
     },
     "metadata": {
      "needs_background": "light"
     },
     "output_type": "display_data"
    }
   ],
   "source": [
    "#Tamanho da figura\n",
    "plt.rcParams['figure.figsize'] = (8, 5)\n",
    "\n",
    "#Plot dos vetores\n",
    "plt.quiver([0, 0], [0, 0], [u2['comedia'],f2['comedia']], [f2['drama'],u2['drama']], angles='xy', scale_units='xy', color=['black', 'blue'], scale=1)\n",
    "\n",
    "#Limites dos eixos\n",
    "plt.xlim(-1, 3)\n",
    "plt.ylim(-1, 10)\n",
    "\n",
    "#Titulos dos eixos\n",
    "plt.xlabel(\"Comédia\")\n",
    "plt.ylabel(\"Drama\")\n",
    "\n",
    "#Distancia\n",
    "plt.vlines(x=2, ymin=7, ymax=8, colors='red', ls='--', lw=2, label='Distância Euclidiana')\n",
    "\n",
    "# place the legend outside\n",
    "plt.legend(bbox_to_anchor=(1, 1), loc='upper left')\n",
    "\n",
    "#Titulo\n",
    "plt.title(\"Distância entre o usuário 2 e o filme 2\")\n",
    "\n",
    "#Display\n",
    "plt.show()"
   ]
  },
  {
   "cell_type": "markdown",
   "id": "9b861079",
   "metadata": {},
   "source": [
    "O usuário 2 está bem próximo do filme 2. Esse resultado é esperado uma vez que o usuário 2 tem alta preferência por drama e pouca preferência por comédia enquanto o filme 2 entrega pouca comédia e muito drama. "
   ]
  },
  {
   "cell_type": "markdown",
   "id": "3cbb93cf",
   "metadata": {},
   "source": [
    "### Função de Distância Euclidiana\n",
    "\n",
    "A função de distância euclidiana será dada pela fórmula da distância euclidiana"
   ]
  },
  {
   "cell_type": "code",
   "execution_count": 7,
   "id": "1439d051",
   "metadata": {},
   "outputs": [],
   "source": [
    "# Definir a função de distância euclidiana\n",
    "def eucl(f,u):\n",
    "    \n",
    "    #Subtração\n",
    "    sub = np.array(list(f.values()))-np.array(list(u.values()))    \n",
    "    \n",
    "    #Potencialização\n",
    "    pot = sub**2\n",
    "    \n",
    "    #Raiz quadrada (distância)\n",
    "    dist = math.sqrt(sum(pot))\n",
    "    \n",
    "    return dist    "
   ]
  },
  {
   "cell_type": "code",
   "execution_count": 16,
   "id": "06c34ba6",
   "metadata": {},
   "outputs": [
    {
     "name": "stdout",
     "output_type": "stream",
     "text": [
      "A distância euclidiana entre o Filme 1 e o usuário 1 é 7.00\n",
      "A distância euclidiana entre o Filme 2 e o usuário 1 é 11.31\n",
      "A distância euclidiana entre o Filme 1 e o usuário 2 é 8.00\n",
      "A distância euclidiana entre o Filme 2 e o usuário 2 é 1.00\n"
     ]
    }
   ],
   "source": [
    "print(\"A distância euclidiana entre o Filme 1 e o usuário 1 é\", \"{:.2f}\".format(eucl(f1,u1)))\n",
    "print(\"A distância euclidiana entre o Filme 2 e o usuário 1 é\", \"{:.2f}\".format(eucl(f2,u1)))\n",
    "print(\"A distância euclidiana entre o Filme 1 e o usuário 2 é\", \"{:.2f}\".format(eucl(f1,u2)))\n",
    "print(\"A distância euclidiana entre o Filme 2 e o usuário 2 é\", \"{:.2f}\".format(eucl(f2,u2)))"
   ]
  },
  {
   "cell_type": "markdown",
   "id": "f0f5038d",
   "metadata": {},
   "source": [
    "A partir da distância euclidiana podemos inferir que o usuário 2 terá maior preferência pelo filme 2 enquanto o usuário 1 terá maior preferência pelo filme 1."
   ]
  },
  {
   "cell_type": "markdown",
   "id": "0ec86ea0",
   "metadata": {},
   "source": [
    "## Distância de Manhattan"
   ]
  },
  {
   "cell_type": "markdown",
   "id": "493f5231",
   "metadata": {},
   "source": [
    "A distância de Manhattan (“City Block” ou “Geometria do Táxi”) é uma forma de geometria em que a usual métrica da geometria euclidiana é substituída por uma nova métrica em que a distância entre dois pontos é a soma das diferenças absolutas de suas coordenadas. A distância de Manhattan é também conhecida como distância L1 ou norma L1. Portanto, a distância de Manhattan entre pontos ${\\displaystyle A=(a_{1},a_{2},\\dots ,a_{n})}$ e ${\\displaystyle B=(b_{1},b_{2},\\dots ,b_{n}),}$ num espaço euclidiano n-dimensional, é definida como:\n",
    "\n",
    "$  |a_{1}-b_{1}| + \\dots + |a_{n}-b_{n}| = \\sum \\limits _{i=1} ^{n} {|a_{i}-b_{i}|} $"
   ]
  },
  {
   "cell_type": "markdown",
   "id": "3099314d",
   "metadata": {},
   "source": [
    "### Interpretação Gráfica\n",
    "\n",
    "Ainda no exemplo dos usuários e filmes, podemos calcular a distância de Manhattan entre cada usuário e filme. A análise gráfica da distância de Manhattan entre o usuário 1 e o filme 1 pode ser obtida por:"
   ]
  },
  {
   "cell_type": "code",
   "execution_count": 9,
   "id": "812e29d0",
   "metadata": {},
   "outputs": [
    {
     "data": {
      "image/png": "[encoded data removed]",
      "text/plain": [
       "<Figure size 576x360 with 1 Axes>"
      ]
     },
     "metadata": {
      "needs_background": "light"
     },
     "output_type": "display_data"
    }
   ],
   "source": [
    "#Tamanho da figura\n",
    "plt.rcParams['figure.figsize'] = (8, 5)\n",
    "\n",
    "#Plot dos vetores\n",
    "#plt.quiver([0, 0], [0, 0], [u1['comedia'],u1['drama']], [f1['comedia'],f1['drama']], angles='xy', scale_units='xy', color=['black', 'blue'], scale=1)\n",
    "\n",
    "#Distancia\n",
    "plt.vlines(x=u1['drama'], ymin=f1['drama'], ymax=u1['comedia'], colors='black', lw=2)\n",
    "plt.hlines(y=f1['drama'], xmin=0, xmax=f1['comedia'], colors='black', lw=2)\n",
    "\n",
    "#Limites dos eixos\n",
    "plt.xlim(-1, 11)\n",
    "plt.ylim(5, 11)\n",
    "\n",
    "#Titulos dos eixos\n",
    "plt.xlabel(\"Comédia\")\n",
    "plt.ylabel(\"Drama\")\n",
    "\n",
    "#Titulo\n",
    "plt.title(\"Distância de Manhattan entre o usuário 1 e o filme 1\")\n",
    "\n",
    "#Display\n",
    "plt.show()"
   ]
  },
  {
   "cell_type": "markdown",
   "id": "36401b68",
   "metadata": {},
   "source": [
    "### Função de Distância de Manhattan\n",
    "\n",
    "A função de distância de Manhattan será dada por"
   ]
  },
  {
   "cell_type": "code",
   "execution_count": 10,
   "id": "8fc229ca",
   "metadata": {},
   "outputs": [],
   "source": [
    "def manhattan(f, u):\n",
    "    \n",
    "    #Subtração\n",
    "    sub = np.array(list(f.values()))-np.array(list(u.values()))    \n",
    "    \n",
    "    #Modulo\n",
    "    modulo = abs(sub)    \n",
    "    \n",
    "    #Soma\n",
    "    manhattan = sum(modulo)\n",
    "    \n",
    "    return manhattan "
   ]
  },
  {
   "cell_type": "code",
   "execution_count": 13,
   "id": "9bede0fe",
   "metadata": {},
   "outputs": [
    {
     "name": "stdout",
     "output_type": "stream",
     "text": [
      "A distância de Manhattan entre o Filme 1 e o usuário 1 é 7.00\n",
      "A distância de Manhattan entre o Filme 2 e o usuário 1 é 16.00\n",
      "A distância de Manhattan entre o Filme 1 e o usuário 2 é 8.00\n",
      "A distância de Manhattan entre o Filme 2 e o usuário 2 é 1.00\n"
     ]
    }
   ],
   "source": [
    "print(\"A distância de Manhattan entre o Filme 1 e o usuário 1 é\", \"{:.2f}\".format(manhattan(f1,u1)))\n",
    "print(\"A distância de Manhattan entre o Filme 2 e o usuário 1 é\", \"{:.2f}\".format(manhattan(f2,u1)))\n",
    "print(\"A distância de Manhattan entre o Filme 1 e o usuário 2 é\", \"{:.2f}\".format(manhattan(f1,u2)))\n",
    "print(\"A distância de Manhattan entre o Filme 2 e o usuário 2 é\", \"{:.2f}\".format(manhattan(f2,u2)))"
   ]
  },
  {
   "cell_type": "markdown",
   "id": "a49fc140",
   "metadata": {},
   "source": [
    "A partir da distância de Manhattan temos um resultado igual ao obtido pela distância euclidiana no qual podemos inferir que o usuário 2 terá maior preferência pelo filme 2 enquanto o usuário 1 terá maior preferência pelo filme 1."
   ]
  },
  {
   "cell_type": "markdown",
   "id": "1b222887",
   "metadata": {},
   "source": [
    "## Distância de Cosseno"
   ]
  },
  {
   "cell_type": "markdown",
   "id": "cc328955",
   "metadata": {},
   "source": [
    "A similaridade por cosseno é uma medida da similareda de entre dois vetores num espaço vetorial que avalia o valor do cosseno do ângulo compreendido entre eles. Esta função trigonométrica proporciona um valor igual a 1 se o ângulo compreendido é zero, isto é se ambos vetores apontam a um mesmo lugar. A similaridade de cosseno entre pontos ${\\displaystyle A=(a_{1},a_{2},\\dots ,a_{n})}$ e ${\\displaystyle B=(b_{1},b_{2},\\dots ,b_{n}),}$ pode ser obtida a partir da equação:\n",
    "\n",
    "$\\cos(\\theta) = \\frac{sim(A,B)} {||A||||B||} = \\frac{\\sum \\limits _{i=1} ^{n} a_{i}b_{i}}{\\sqrt{\\sum \\limits _{i=1} ^{n} a_{i}^2} \\sqrt{\\sum \\limits _{i=1} ^{n} b_{i}^2}}$"
   ]
  }
 ],
 "metadata": {
  "kernelspec": {
   "display_name": "Python 3 (ipykernel)",
   "language": "python",
   "name": "python3"
  },
  "language_info": {
   "codemirror_mode": {
    "name": "ipython",
    "version": 3
   },
   "file_extension": ".py",
   "mimetype": "text/x-python",
   "name": "python",
   "nbconvert_exporter": "python",
   "pygments_lexer": "ipython3",
   "version": "3.9.12"
  },
  "toc": {
   "base_numbering": 1,
   "nav_menu": {},
   "number_sections": true,
   "sideBar": true,
   "skip_h1_title": false,
   "title_cell": "Table of Contents",
   "title_sidebar": "Contents",
   "toc_cell": false,
   "toc_position": {
    "height": "calc(100% - 180px)",
    "left": "10px",
    "top": "150px",
    "width": "304.549px"
   },
   "toc_section_display": true,
   "toc_window_display": true
  }
 },
 "nbformat": 4,
 "nbformat_minor": 5
}
