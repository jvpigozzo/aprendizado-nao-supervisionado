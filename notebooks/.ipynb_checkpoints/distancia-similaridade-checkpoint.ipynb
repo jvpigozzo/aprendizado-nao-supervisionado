{
 "cells": [
  {
   "cell_type": "markdown",
   "id": "22af462f",
   "metadata": {},
   "source": [
    "# Conceitos de distância e similaridade\n",
    "\n",
    "Autor: João Vitor Pigozzo Quintã\n",
    "<dd>\n",
    "Contato: jvpigozzo@gmail.com"
   ]
  },
  {
   "cell_type": "markdown",
   "id": "7ed41f35",
   "metadata": {},
   "source": [
    "### Preparação do ambiente"
   ]
  },
  {
   "cell_type": "code",
   "execution_count": 153,
   "id": "df48a014",
   "metadata": {},
   "outputs": [],
   "source": [
    "# Importação de pacotes\n",
    "import numpy as np\n",
    "import pandas as pd\n",
    "from matplotlib import pyplot as plt"
   ]
  },
  {
   "cell_type": "markdown",
   "id": "91cf8043",
   "metadata": {},
   "source": [
    "### Modelo linear"
   ]
  },
  {
   "cell_type": "markdown",
   "id": "d2b6e934",
   "metadata": {},
   "source": [
    "Medidas de similaridade são componentes centrais usados por algoritmos de clusterização baseados em distância. Para iniciar o entendimento de similaridade o primeiro conceito utilizado será o modelo linear cujo objetivo é a avaliação de proximidade a partir de uma regra de três. Supondo a existência de filmes classificados (numa escala de 0 a 10) em comédia, drama e terror e usuários que classificam seus interesses por esses tópicos:"
   ]
  },
  {
   "cell_type": "markdown",
   "id": "c265fda3",
   "metadata": {},
   "source": [
    "$$F1 = \\begin{bmatrix} 10 \\\\ 7 \\end{bmatrix} \n",
    "  F2 = \\begin{bmatrix} 2 \\\\ 8 \\end{bmatrix} $$"
   ]
  },
  {
   "cell_type": "markdown",
   "id": "aa7ab0f6",
   "metadata": {},
   "source": [
    "$$U1 = \\begin{bmatrix} 10 \\\\ 0 \\end{bmatrix} \n",
    "  U2 = \\begin{bmatrix} 2 \\\\ 5 \\end{bmatrix}$$"
   ]
  },
  {
   "cell_type": "code",
   "execution_count": 154,
   "id": "2837fe28",
   "metadata": {},
   "outputs": [],
   "source": [
    "# Dicionários de filmes\n",
    "f1 = {'comedia': 10, 'drama': 7}\n",
    "f2 = {'comedia': 2,  'drama': 8}\n",
    "\n",
    "# Dicionários de usuários\n",
    "u1 = {'comedia': 10, 'drama': 0}\n",
    "u2 = {'comedia': 2,  'drama': 7}"
   ]
  },
  {
   "cell_type": "markdown",
   "id": "7368ad00",
   "metadata": {},
   "source": [
    "### Função de Similaridade\n",
    "\n",
    "A função de similaridade será dada pelo produto das matrizes"
   ]
  },
  {
   "cell_type": "markdown",
   "id": "129bd61a",
   "metadata": {},
   "source": [
    "$$\n",
    "sim(f,u)=F^T*U\n",
    "$$"
   ]
  },
  {
   "cell_type": "code",
   "execution_count": 155,
   "id": "c074efd2",
   "metadata": {},
   "outputs": [],
   "source": [
    "# Definir a função de similaridade\n",
    "def sim(f,u):\n",
    "    \n",
    "    #Produto\n",
    "    prod = np.array(list(f.values()))*np.array(list(u.values()))\n",
    "    \n",
    "    #Somatório\n",
    "    sim = sum(prod)\n",
    "    \n",
    "    return sim    "
   ]
  },
  {
   "cell_type": "code",
   "execution_count": 156,
   "id": "5fd7d3d1",
   "metadata": {},
   "outputs": [
    {
     "name": "stdout",
     "output_type": "stream",
     "text": [
      "100 20 60 69\n"
     ]
    }
   ],
   "source": [
    "print(sim(f1,u1), sim(f2,u1), sim(f1,u2), sim(f2,u2))"
   ]
  },
  {
   "cell_type": "markdown",
   "id": "b34e66ff",
   "metadata": {},
   "source": [
    "Analisando as matrizes de percebe-se que o usuário 1 gosta bastante de comédia e não possui nenhum gosto por filmes do gênero de drama. Analogamente, o filme 1 é capaz de entregar muita comédia e nada de terror enquanto o filme 2 entrega pouca comédia, e bastante em drama. Dessa forma, espera-se que o usurário 1 tenha maior propensão a gostar do filme 1 em detrimento do filme 2. Nesse modelo linear, obtemos como resultado que o unsuário 1 é mais similar ao filme 1 quando comparado com o filme 2.\n"
   ]
  },
  {
   "cell_type": "markdown",
   "id": "4be2ff85",
   "metadata": {},
   "source": [
    "### Distância Euclidiana"
   ]
  },
  {
   "cell_type": "markdown",
   "id": "a008667c",
   "metadata": {},
   "source": [
    "distância euclidiana é a distância entre dois pontos, que pode ser provada pela aplicação repetida do teorema de Pitágoras. Aplicando essa fórmula como distância, o espaço euclidiano torna-se um espaço métrico. A distância euclidiana entre os pontos ${\\displaystyle P=(p_{1},p_{2},\\dots ,p_{n})}$ e ${\\displaystyle Q=(q_{1},q_{2},\\dots ,q_{n}),}$ num espaço euclidiano n-dimensional, é definida como:\n",
    "\n",
    "$\\sqrt{(p_{1}-q_{1})^{2} + \\dots + (p_{n}-q_{n})^{2}} =  \\sqrt{\\sum \\limits _{i=1} ^{n} p_{i}-q_{i}}$\n",
    "\n",
    "Vale ressaltar que diferentemente da função de similaridade, a distância é inversamente proporcional, isto é, quanto menor a distância mais parecidas são as observações."
   ]
  },
  {
   "cell_type": "markdown",
   "id": "b671f86e",
   "metadata": {},
   "source": [
    "### Interpretação Gráfica\n",
    "\n",
    "Ainda no exemplo dos usuários e filmes, podemos calcular a distância euclidiana entre cada usuário e filme. A análise gráfica da distância euclidiana entre o usuário 1 e o filme 1 pode ser obtida por:"
   ]
  },
  {
   "cell_type": "code",
   "execution_count": 166,
   "id": "c87f6d8e",
   "metadata": {},
   "outputs": [
    {
     "data": {
      "image/png": "[encoded data removed]",
      "text/plain": [
       "<Figure size 576x360 with 1 Axes>"
      ]
     },
     "metadata": {
      "needs_background": "light"
     },
     "output_type": "display_data"
    }
   ],
   "source": [
    "#Tamanho da figura\n",
    "plt.rcParams['figure.figsize'] = (8, 5)\n",
    "\n",
    "#Plot dos vetores\n",
    "plt.quiver([0, 0], [0, 0], [u1['comedia'],f1['comedia']], [f1['drama'],u1['drama']], angles='xy', scale_units='xy', color=['black', 'blue'], scale=1)\n",
    "\n",
    "#Limites dos eixos\n",
    "plt.xlim(-1, 11)\n",
    "plt.ylim(-1, 11)\n",
    "\n",
    "#Titulos dos eixos\n",
    "plt.xlabel(\"Comédia\")\n",
    "plt.ylabel(\"Drama\")\n",
    "\n",
    "#Distancia\n",
    "plt.vlines(x=10, ymin=0, ymax=7, colors='red', ls='--', lw=2, label='Distância Euclidiana')\n",
    "\n",
    "# place the legend outside\n",
    "plt.legend(bbox_to_anchor=(1, 1), loc='upper left')\n",
    "\n",
    "#Titulo\n",
    "plt.title(\"Distância entre o usuário 1 e o filme 1\")\n",
    "\n",
    "#Display\n",
    "plt.show()"
   ]
  },
  {
   "cell_type": "markdown",
   "id": "a2518722",
   "metadata": {},
   "source": [
    "Graficamente, percebebemos que o usuário 1 (representado pelo vetor azul) não possui nenhum gosto por drama enquanto seu gosto por comédia é alto. O vetor de cor preta representa o filme 1 que é capaz de entregar 7 de drama e 10 de comédia."
   ]
  },
  {
   "cell_type": "code",
   "execution_count": 177,
   "id": "b46f5ef6",
   "metadata": {},
   "outputs": [
    {
     "data": {
      "image/png": "[encoded data removed]",
      "text/plain": [
       "<Figure size 576x360 with 1 Axes>"
      ]
     },
     "metadata": {
      "needs_background": "light"
     },
     "output_type": "display_data"
    }
   ],
   "source": [
    "#Tamanho da figura\n",
    "plt.rcParams['figure.figsize'] = (8, 5)\n",
    "\n",
    "#Plot dos vetores\n",
    "plt.quiver([0, 0], [0, 0], [u2['comedia'],f2['comedia']], [f2['drama'],u2['drama']], angles='xy', scale_units='xy', color=['black', 'blue'], scale=1)\n",
    "\n",
    "#Limites dos eixos\n",
    "plt.xlim(-1, 3)\n",
    "plt.ylim(-1, 10)\n",
    "\n",
    "#Titulos dos eixos\n",
    "plt.xlabel(\"Comédia\")\n",
    "plt.ylabel(\"Drama\")\n",
    "\n",
    "#Distancia\n",
    "plt.vlines(x=2, ymin=7, ymax=8, colors='red', ls='--', lw=2, label='Distância Euclidiana')\n",
    "\n",
    "# place the legend outside\n",
    "plt.legend(bbox_to_anchor=(1, 1), loc='upper left')\n",
    "\n",
    "#Titulo\n",
    "plt.title(\"Distância entre o usuário 2 e o filme 2\")\n",
    "\n",
    "#Display\n",
    "plt.show()"
   ]
  },
  {
   "cell_type": "markdown",
   "id": "9b861079",
   "metadata": {},
   "source": [
    "O usuário 2 está bem próximo do filme 2. Esse resultado é esperado uma vez que o usuário 2 tem alta preferência por drama e pouca preferência por comédia enquanto o filme 2 entrega pouca comédia e muito drama. "
   ]
  },
  {
   "cell_type": "markdown",
   "id": "3cbb93cf",
   "metadata": {},
   "source": [
    "### Função de Distância\n",
    "\n",
    "A função de distância será dada pela fórmula da distância euclidiana\n"
   ]
  },
  {
   "cell_type": "code",
   "execution_count": 158,
   "id": "1439d051",
   "metadata": {},
   "outputs": [],
   "source": [
    "# Definir a função de distância euclidiana\n",
    "def eucl(f,u):\n",
    "    \n",
    "    #Subtração\n",
    "    sub = np.array(list(f.values()))-np.array(list(u.values()))    \n",
    "    \n",
    "    #Potencialização\n",
    "    pot = sub**2\n",
    "    \n",
    "    #Raiz quadrada (distância)\n",
    "    dist = math.sqrt(sum(pot))\n",
    "    \n",
    "    return dist    "
   ]
  },
  {
   "cell_type": "code",
   "execution_count": 163,
   "id": "06c34ba6",
   "metadata": {},
   "outputs": [
    {
     "name": "stdout",
     "output_type": "stream",
     "text": [
      "7.00 11.31 8.00 1.00\n"
     ]
    }
   ],
   "source": [
    "print(\"{:.2f}\".format(eucl(f1,u1)), \"{:.2f}\".format(eucl(f2,u1)), \"{:.2f}\".format(eucl(f1,u2)), \"{:.2f}\".format(eucl(f2,u2)))"
   ]
  },
  {
   "cell_type": "markdown",
   "id": "f0f5038d",
   "metadata": {},
   "source": [
    "A partir da distância euclidiana podemos inferir que o usuário 2 terá mais preferência pelo filme 2 enquanto o usuário 1 terá maior preferência pelo filme 1."
   ]
  }
 ],
 "metadata": {
  "kernelspec": {
   "display_name": "Python 3 (ipykernel)",
   "language": "python",
   "name": "python3"
  },
  "language_info": {
   "codemirror_mode": {
    "name": "ipython",
    "version": 3
   },
   "file_extension": ".py",
   "mimetype": "text/x-python",
   "name": "python",
   "nbconvert_exporter": "python",
   "pygments_lexer": "ipython3",
   "version": "3.9.12"
  }
 },
 "nbformat": 4,
 "nbformat_minor": 5
}
