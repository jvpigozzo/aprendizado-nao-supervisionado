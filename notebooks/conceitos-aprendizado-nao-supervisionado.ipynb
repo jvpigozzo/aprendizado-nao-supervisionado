{
 "cells": [
  {
   "cell_type": "markdown",
   "id": "ec2b911d",
   "metadata": {},
   "source": [
    "### Aprendizado não supervisionado"
   ]
  },
  {
   "cell_type": "markdown",
   "id": "ca6d77e7",
   "metadata": {},
   "source": [
    "O aprendizado não supervisionado é o ramo de machine learning no qual não existem resultados pré-definidos para o modelo utilizar como referência para aprender. Portanto, essa tarefa pode ser não bem definida, e o desempenho não pode ser medido com elevada clareza uma vez que os dados não são rotulados.\n",
    "\n",
    "Considerando uma tarefa de classificar emails do tipo spam com dados não rotulados. Em algoritmos de aprendizado não supervisionado tentaremos entender a estrutura dos emails, separando os dados em grupos diferentes. Portanto, a resolução do problema não supervisionado é mais obscura quando comparado a modelos de aprendizado supervisionado. Os algoritmos não suprvisionados não possuem uma função de custo e acurácia.\n",
    "\n",
    "Os principais algoritmos de aprendizado não supervisionado:\n",
    "\n",
    "<p>\n",
    "<dt>Redução de Dimensionalidade</dt>\n",
    "<dd> </dd>\n",
    "<dd>1.Análise de Componentes Principais (PCA)</dd>\n",
    "<dd>2.Singular value decomposition (SVD)</dd>\n",
    "<dd>3.t-distributed stochastic neighbor embedding (t-SNE)<p>\n",
    "\n",
    "<p>\n",
    "<dt>Clusterização</dt>\n",
    "<dd>1.K-means</dd>\n",
    "<dd>2.Clusterização Hierárquica<p>\n",
    "    \n",
    "<p>\n",
    "<dt>Feature Extraction</dt>\n",
    "<dd>1.Autoencoders</dd>\n",
    "<p>\n"
   ]
  }
 ],
 "metadata": {
  "kernelspec": {
   "display_name": "Python 3 (ipykernel)",
   "language": "python",
   "name": "python3"
  },
  "language_info": {
   "codemirror_mode": {
    "name": "ipython",
    "version": 3
   },
   "file_extension": ".py",
   "mimetype": "text/x-python",
   "name": "python",
   "nbconvert_exporter": "python",
   "pygments_lexer": "ipython3",
   "version": "3.8.3"
  }
 },
 "nbformat": 4,
 "nbformat_minor": 5
}
